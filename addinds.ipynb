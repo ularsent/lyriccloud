{
 "cells": [
  {
   "cell_type": "markdown",
   "metadata": {},
   "source": [
    "# В этом файле лежат вспомогательные куски кода"
   ]
  },
  {
   "cell_type": "markdown",
   "metadata": {},
   "source": [
    "Это создание первичного датафрейма "
   ]
  },
  {
   "cell_type": "code",
   "execution_count": 46,
   "metadata": {},
   "outputs": [],
   "source": [
    "import pandas as pd\n",
    "import re\n",
    "\n",
    "data = {'name': \n",
    "['Ахматова', 'Бродский','Лермонтов', 'Маяковский', 'Пушкин', 'Тютчев'], \n",
    "        'path': \n",
    "['Ahmatova', 'Brodskiy', 'Lermontov', 'Mayakovskiy', 'Pushkin', 'Tyutchev']} \n",
    " \n",
    "df = pd.DataFrame.from_dict(data)\n",
    "texts = []\n",
    "\n",
    "for index, row in df.iterrows():\n",
    "    value = row['path']\n",
    "    with open(f'/books/{value}.txt') as f:\n",
    "        text = f.read()\n",
    "        text = re.sub(r'[^\\w\\s]\\n\\n','',text)\n",
    "        texts.append(text)\n",
    "\n",
    "df['text'] = texts\n",
    "df.to_csv('base.csv')  # в этот файл потом дозаписываем во время работы бота"
   ]
  },
  {
   "cell_type": "code",
   "execution_count": 44,
   "metadata": {},
   "outputs": [
    {
     "data": {
      "text/plain": [
       "array(['Unnamed: 0', 'name', 'path', 'text'], dtype=object)"
      ]
     },
     "execution_count": 44,
     "metadata": {},
     "output_type": "execute_result"
    }
   ],
   "source": [
    "df.columns.values"
   ]
  },
  {
   "cell_type": "markdown",
   "metadata": {},
   "source": [
    "Дальше код для краулера, которым с я сайта *Культура* скачала список русский писателей (см. про модерацию)"
   ]
  },
  {
   "cell_type": "code",
   "execution_count": 3,
   "metadata": {},
   "outputs": [
    {
     "name": "stdout",
     "output_type": "stream",
     "text": [
      "{'User-Agent': 'Mozilla/5.0 (Windows NT 10.0; rv:102.0) Gecko/20100101 Firefox/102.0'}\n"
     ]
    }
   ],
   "source": [
    "import requests\n",
    "from pprint import pprint\n",
    "session = requests.session()\n",
    "\n",
    "\n",
    "from fake_useragent import UserAgent\n",
    "\n",
    "\n",
    "ua = UserAgent()\n",
    "headers = {'User-Agent': ua.random}\n",
    "print(headers)\n",
    "response = session.get('https://www.culture.ru/literature/persons?page=', headers=headers)\n",
    "\n",
    "from bs4 import BeautifulSoup\n",
    "import re"
   ]
  },
  {
   "cell_type": "code",
   "execution_count": 10,
   "metadata": {},
   "outputs": [],
   "source": [
    "greats = []\n",
    "href_plus = ['1', '2', '3', '4', '5', '6']\n",
    "\n",
    "for page in href_plus:\n",
    "    url_o = 'https://www.culture.ru/literature/persons?page=' + page\n",
    "\n",
    "    req = session.get(url_o, headers={'User-Agent': ua.random})\n",
    "    page = req.text\n",
    "    soup = BeautifulSoup(page, 'html.parser')\n",
    "\n",
    "    title = soup.find_all('div', {'class': \"Rosqt\"})\n",
    "    greats = greats + title"
   ]
  },
  {
   "cell_type": "code",
   "execution_count": 35,
   "metadata": {},
   "outputs": [],
   "source": [
    "greats_list = []\n",
    "\n",
    "for i in range(len(greats)):\n",
    "    greats_list.append(greats[i].text)"
   ]
  },
  {
   "cell_type": "code",
   "execution_count": 37,
   "metadata": {},
   "outputs": [],
   "source": [
    "with open('greats_list.txt', 'w', encoding='UTF-8') as outfile:\n",
    "    print(','.join(greats_list), file=outfile)  # отсюда читаем список в коде бота"
   ]
  },
  {
   "cell_type": "markdown",
   "metadata": {},
   "source": [
    "А здесь была отладка функции, рисующей облако"
   ]
  },
  {
   "cell_type": "code",
   "execution_count": 27,
   "metadata": {},
   "outputs": [],
   "source": [
    "import pandas as pd\n",
    "\n",
    "import matplotlib.pyplot as plt\n",
    "from wordcloud import WordCloud\n",
    "\n",
    "import nltk\n",
    "from nltk.corpus import stopwords\n",
    "from nltk.tokenize import word_tokenize\n",
    "\n",
    "import re\n",
    "\n",
    "import collections\n",
    "from collections import Counter\n",
    "\n",
    "from pymystem3 import Mystem\n",
    "\n",
    "df = pd.read_csv('C:/Users/ulyas/OneDrive/Рабочий стол/прожект/base.csv', encoding='utf=8')\n",
    "authors = df['name'].tolist()\n",
    "path = df['path'].tolist()\n",
    "poem = df['text'].tolist()\n",
    "\n",
    "def clouds_func(name):\n",
    "    nltk.download('punkt')\n",
    "    nltk.download('stopwords')\n",
    "    stop_words = stopwords.words('russian')\n",
    "\n",
    "    text = poem[authors.index('Ахматова')]\n",
    "    text = re.sub(r'[^\\w\\s]\\n\\n','',text)\n",
    "\n",
    "    word_tokenize(text)\n",
    "    words = [w.lower() for w in word_tokenize(text) if w.isalpha()]\n",
    "    words = [w for w in words if w not in stop_words]\n",
    "\n",
    "    top = dict(Counter(words).most_common(30))\n",
    "    all_top = list(top.keys())\n",
    "\n",
    "    stop_words = stop_words + all_top\n",
    "    words = [w.lower() for w in word_tokenize(text) if w.isalpha()]\n",
    "    words = [w for w in words if w not in stop_words]\n",
    "\n",
    "    m = Mystem()\n",
    "    lemmas = ''.join(m.lemmatize(' '.join(words)))\n",
    "\n",
    "    wordcloud = WordCloud(width = 400, height = 400,\n",
    "                          background_color ='white', colormap = 'PiYG').generate(lemmas)\n",
    "\n",
    "    plt.figure(figsize = (8, 8), facecolor = None) \n",
    "    plt.imshow(wordcloud, interpolation='bilinear') \n",
    "    plt.axis(\"off\") \n",
    "    plt.tight_layout(pad = 0) \n",
    "\n",
    "    plt.savefig(f'wordcloud_{name}.jpg')\n",
    "    plt.show()\n",
    "\n",
    "    return wordcloud"
   ]
  }
 ],
 "metadata": {
  "kernelspec": {
   "display_name": "Python 3",
   "language": "python",
   "name": "python3"
  },
  "language_info": {
   "codemirror_mode": {
    "name": "ipython",
    "version": 3
   },
   "file_extension": ".py",
   "mimetype": "text/x-python",
   "name": "python",
   "nbconvert_exporter": "python",
   "pygments_lexer": "ipython3",
   "version": "3.10.11"
  }
 },
 "nbformat": 4,
 "nbformat_minor": 2
}
